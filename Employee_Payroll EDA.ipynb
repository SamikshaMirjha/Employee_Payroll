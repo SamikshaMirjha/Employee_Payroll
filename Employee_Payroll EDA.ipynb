{
  "cells": [
    {
      "cell_type": "markdown",
      "metadata": {
        "id": "fEWqZKWDQV6H"
      },
      "source": [
        "<h1> EDA ON Employee_Payroll Dataset</h1>"
      ]
    },
    {
      "cell_type": "code",
      "execution_count": 1,
      "metadata": {
        "id": "AflMIsTvNV6y"
      },
      "outputs": [],
      "source": [
        "# Importing important libraries\n",
        "import numpy as np\n",
        "import pandas as pd\n",
        "import matplotlib.pyplot as plt\n",
        "import seaborn as sns\n",
        "import scipy.stats as st\n",
        "import math as m\n",
        "import statsmodels.stats.api as sm\n",
        "import warnings\n",
        "warnings.filterwarnings('ignore')"
      ]
    },
    {
      "cell_type": "code",
      "execution_count": 2,
      "metadata": {
        "colab": {
          "base_uri": "https://localhost:8080/",
          "height": 927
        },
        "id": "s9BbTbE4Nwrl",
        "outputId": "a6a83162-8718-490d-a996-92cc72d6b31c"
      },
      "outputs": [
        {
          "data": {
            "application/vnd.google.colaboratory.intrinsic+json": {
              "summary": "{\n  \"name\": \"df\",\n  \"rows\": 44483,\n  \"fields\": [\n    {\n      \"column\": \"Fiscal Quarter\",\n      \"properties\": {\n        \"dtype\": \"number\",\n        \"std\": 1,\n        \"min\": 1,\n        \"max\": 4,\n        \"num_unique_values\": 4,\n        \"samples\": [\n          2,\n          4,\n          1\n        ],\n        \"semantic_type\": \"\",\n        \"description\": \"\"\n      }\n    },\n    {\n      \"column\": \"Fiscal Period\",\n      \"properties\": {\n        \"dtype\": \"object\",\n        \"num_unique_values\": 8,\n        \"samples\": [\n          \"2016Q2\",\n          \"2017Q2\",\n          \"2016Q1\"\n        ],\n        \"semantic_type\": \"\",\n        \"description\": \"\"\n      }\n    },\n    {\n      \"column\": \"First Name\",\n      \"properties\": {\n        \"dtype\": \"category\",\n        \"num_unique_values\": 2491,\n        \"samples\": [\n          \"RAMONA\",\n          \"LASHON\",\n          \"RANDOLPH\"\n        ],\n        \"semantic_type\": \"\",\n        \"description\": \"\"\n      }\n    },\n    {\n      \"column\": \"Last Name\",\n      \"properties\": {\n        \"dtype\": \"category\",\n        \"num_unique_values\": 3339,\n        \"samples\": [\n          \"ARORA\",\n          \"D'ANTIGNAC\",\n          \"CAIRO\"\n        ],\n        \"semantic_type\": \"\",\n        \"description\": \"\"\n      }\n    },\n    {\n      \"column\": \"Middle Init\",\n      \"properties\": {\n        \"dtype\": \"category\",\n        \"num_unique_values\": 108,\n        \"samples\": [\n          \"GUY\",\n          \"D\",\n          \"V\"\n        ],\n        \"semantic_type\": \"\",\n        \"description\": \"\"\n      }\n    },\n    {\n      \"column\": \"Bureau\",\n      \"properties\": {\n        \"dtype\": \"category\",\n        \"num_unique_values\": 24,\n        \"samples\": [\n          \"Treasurer\",\n          \"Board of Review\",\n          \"State's Attorney\"\n        ],\n        \"semantic_type\": \"\",\n        \"description\": \"\"\n      }\n    },\n    {\n      \"column\": \"Office\",\n      \"properties\": {\n        \"dtype\": \"number\",\n        \"std\": 1617.5968145164586,\n        \"min\": 1002.0,\n        \"max\": 4898.0,\n        \"num_unique_values\": 80,\n        \"samples\": [\n          4898.0,\n          1250.0,\n          1230.0\n        ],\n        \"semantic_type\": \"\",\n        \"description\": \"\"\n      }\n    },\n    {\n      \"column\": \"Office Name\",\n      \"properties\": {\n        \"dtype\": \"category\",\n        \"num_unique_values\": 81,\n        \"samples\": [\n          \"OAK FOREST HEALTH CENTER\",\n          \"STATES ATTORNEY\",\n          \"COURT SERVICES DIVISION\"\n        ],\n        \"semantic_type\": \"\",\n        \"description\": \"\"\n      }\n    },\n    {\n      \"column\": \"Job Code\",\n      \"properties\": {\n        \"dtype\": \"number\",\n        \"std\": 1889.8819472092207,\n        \"min\": 1.0,\n        \"max\": 8079.0,\n        \"num_unique_values\": 1156,\n        \"samples\": [\n          6520.0,\n          6616.0,\n          2390.0\n        ],\n        \"semantic_type\": \"\",\n        \"description\": \"\"\n      }\n    },\n    {\n      \"column\": \"Job Title\",\n      \"properties\": {\n        \"dtype\": \"category\",\n        \"num_unique_values\": 1122,\n        \"samples\": [\n          \"Dark Room Technician II\",\n          \"Legal Services Administrator\",\n          \"Chief of Human Resources - ROD\"\n        ],\n        \"semantic_type\": \"\",\n        \"description\": \"\"\n      }\n    },\n    {\n      \"column\": \"Base Pay\",\n      \"properties\": {\n        \"dtype\": \"string\",\n        \"num_unique_values\": 28216,\n        \"samples\": [\n          \"$25,128.36\",\n          \"$11,620.46\",\n          \"$7,848.30\"\n        ],\n        \"semantic_type\": \"\",\n        \"description\": \"\"\n      }\n    },\n    {\n      \"column\": \"Position ID\",\n      \"properties\": {\n        \"dtype\": \"number\",\n        \"std\": 3684449.205118516,\n        \"min\": 47.0,\n        \"max\": 9935271.0,\n        \"num_unique_values\": 6843,\n        \"samples\": [\n          9518926.0,\n          9512297.0,\n          9519807.0\n        ],\n        \"semantic_type\": \"\",\n        \"description\": \"\"\n      }\n    },\n    {\n      \"column\": \"Employee Identifier\",\n      \"properties\": {\n        \"dtype\": \"category\",\n        \"num_unique_values\": 6621,\n        \"samples\": [\n          \"2625e6cb-d8d7-45ab-a0be-7b2a0c9ad321\",\n          \"96b091bc-0cae-449c-a317-3afb7d74a78a\",\n          \"9733f11f-8371-4a2b-99d0-37d5fe762184\"\n        ],\n        \"semantic_type\": \"\",\n        \"description\": \"\"\n      }\n    },\n    {\n      \"column\": \"Original Hire Date\",\n      \"properties\": {\n        \"dtype\": \"object\",\n        \"num_unique_values\": 1978,\n        \"samples\": [\n          \"09/27/1999\",\n          \"03/04/1991\",\n          \"10/16/1986\"\n        ],\n        \"semantic_type\": \"\",\n        \"description\": \"\"\n      }\n    }\n  ]\n}",
              "type": "dataframe",
              "variable_name": "df"
            },
            "text/html": [
              "\n",
              "  <div id=\"df-7ff07fe5-dc58-4c3b-9015-7f13084e6f19\" class=\"colab-df-container\">\n",
              "    <div>\n",
              "<style scoped>\n",
              "    .dataframe tbody tr th:only-of-type {\n",
              "        vertical-align: middle;\n",
              "    }\n",
              "\n",
              "    .dataframe tbody tr th {\n",
              "        vertical-align: top;\n",
              "    }\n",
              "\n",
              "    .dataframe thead th {\n",
              "        text-align: right;\n",
              "    }\n",
              "</style>\n",
              "<table border=\"1\" class=\"dataframe\">\n",
              "  <thead>\n",
              "    <tr style=\"text-align: right;\">\n",
              "      <th></th>\n",
              "      <th>Fiscal Quarter</th>\n",
              "      <th>Fiscal Period</th>\n",
              "      <th>First Name</th>\n",
              "      <th>Last Name</th>\n",
              "      <th>Middle Init</th>\n",
              "      <th>Bureau</th>\n",
              "      <th>Office</th>\n",
              "      <th>Office Name</th>\n",
              "      <th>Job Code</th>\n",
              "      <th>Job Title</th>\n",
              "      <th>Base Pay</th>\n",
              "      <th>Position ID</th>\n",
              "      <th>Employee Identifier</th>\n",
              "      <th>Original Hire Date</th>\n",
              "    </tr>\n",
              "  </thead>\n",
              "  <tbody>\n",
              "    <tr>\n",
              "      <th>0</th>\n",
              "      <td>1</td>\n",
              "      <td>2016Q1</td>\n",
              "      <td>AMRITH</td>\n",
              "      <td>AAKRE</td>\n",
              "      <td>K</td>\n",
              "      <td>State's Attorney</td>\n",
              "      <td>1250.0</td>\n",
              "      <td>STATES ATTORNEY</td>\n",
              "      <td>1172.0</td>\n",
              "      <td>Assistant State's Attorney</td>\n",
              "      <td>$20,088.00</td>\n",
              "      <td>9510200.0</td>\n",
              "      <td>6ac7ba3e-d286-44f5-87a0-191dc415e23c</td>\n",
              "      <td>05/16/2005</td>\n",
              "    </tr>\n",
              "    <tr>\n",
              "      <th>1</th>\n",
              "      <td>2</td>\n",
              "      <td>2016Q2</td>\n",
              "      <td>AMRITH</td>\n",
              "      <td>AAKRE</td>\n",
              "      <td>K</td>\n",
              "      <td>State's Attorney</td>\n",
              "      <td>1250.0</td>\n",
              "      <td>STATES ATTORNEY</td>\n",
              "      <td>1172.0</td>\n",
              "      <td>Assistant State's Attorney</td>\n",
              "      <td>$23,436.00</td>\n",
              "      <td>9510200.0</td>\n",
              "      <td>6ac7ba3e-d286-44f5-87a0-191dc415e23c</td>\n",
              "      <td>05/16/2005</td>\n",
              "    </tr>\n",
              "    <tr>\n",
              "      <th>2</th>\n",
              "      <td>3</td>\n",
              "      <td>2016Q3</td>\n",
              "      <td>AMRITH</td>\n",
              "      <td>AAKRE</td>\n",
              "      <td>K</td>\n",
              "      <td>State's Attorney</td>\n",
              "      <td>1250.0</td>\n",
              "      <td>STATES ATTORNEY</td>\n",
              "      <td>1172.0</td>\n",
              "      <td>Assistant State's Attorney</td>\n",
              "      <td>$20,422.82</td>\n",
              "      <td>9510200.0</td>\n",
              "      <td>6ac7ba3e-d286-44f5-87a0-191dc415e23c</td>\n",
              "      <td>05/16/2005</td>\n",
              "    </tr>\n",
              "    <tr>\n",
              "      <th>3</th>\n",
              "      <td>4</td>\n",
              "      <td>2016Q4</td>\n",
              "      <td>AMRITH</td>\n",
              "      <td>AAKRE</td>\n",
              "      <td>K</td>\n",
              "      <td>State's Attorney</td>\n",
              "      <td>1250.0</td>\n",
              "      <td>STATES ATTORNEY</td>\n",
              "      <td>1172.0</td>\n",
              "      <td>Assistant State's Attorney</td>\n",
              "      <td>$23,904.80</td>\n",
              "      <td>9510200.0</td>\n",
              "      <td>6ac7ba3e-d286-44f5-87a0-191dc415e23c</td>\n",
              "      <td>05/16/2005</td>\n",
              "    </tr>\n",
              "    <tr>\n",
              "      <th>4</th>\n",
              "      <td>1</td>\n",
              "      <td>2017Q1</td>\n",
              "      <td>AMRITH</td>\n",
              "      <td>AAKRE</td>\n",
              "      <td>K</td>\n",
              "      <td>State's Attorney</td>\n",
              "      <td>1250.0</td>\n",
              "      <td>STATES ATTORNEY</td>\n",
              "      <td>1172.0</td>\n",
              "      <td>Assistant State's Attorney</td>\n",
              "      <td>$20,745.80</td>\n",
              "      <td>9510200.0</td>\n",
              "      <td>6ac7ba3e-d286-44f5-87a0-191dc415e23c</td>\n",
              "      <td>05/16/2005</td>\n",
              "    </tr>\n",
              "    <tr>\n",
              "      <th>...</th>\n",
              "      <td>...</td>\n",
              "      <td>...</td>\n",
              "      <td>...</td>\n",
              "      <td>...</td>\n",
              "      <td>...</td>\n",
              "      <td>...</td>\n",
              "      <td>...</td>\n",
              "      <td>...</td>\n",
              "      <td>...</td>\n",
              "      <td>...</td>\n",
              "      <td>...</td>\n",
              "      <td>...</td>\n",
              "      <td>...</td>\n",
              "      <td>...</td>\n",
              "    </tr>\n",
              "    <tr>\n",
              "      <th>44478</th>\n",
              "      <td>3</td>\n",
              "      <td>2017Q3</td>\n",
              "      <td>VANESSA</td>\n",
              "      <td>ECHOLS</td>\n",
              "      <td>D</td>\n",
              "      <td>Chief Judge</td>\n",
              "      <td>1280.0</td>\n",
              "      <td>ADULT PROBATION DEPT.</td>\n",
              "      <td>907.0</td>\n",
              "      <td>Clerk V</td>\n",
              "      <td>$11,954.80</td>\n",
              "      <td>9512130.0</td>\n",
              "      <td>c226c292-981b-4134-86ab-2d57d0c93168</td>\n",
              "      <td>07/22/1996</td>\n",
              "    </tr>\n",
              "    <tr>\n",
              "      <th>44479</th>\n",
              "      <td>3</td>\n",
              "      <td>2017Q3</td>\n",
              "      <td>RHONDA</td>\n",
              "      <td>ECHOLS</td>\n",
              "      <td>E</td>\n",
              "      <td>Chief Judge</td>\n",
              "      <td>1313.0</td>\n",
              "      <td>SOCIAL CASEWORK SERVICES</td>\n",
              "      <td>1531.0</td>\n",
              "      <td>Social Caseworker I</td>\n",
              "      <td>$12,866.17</td>\n",
              "      <td>9514361.0</td>\n",
              "      <td>7e5b8a1d-274e-4c3d-8c9c-beee7bff8d6e</td>\n",
              "      <td>01/10/2000</td>\n",
              "    </tr>\n",
              "    <tr>\n",
              "      <th>44480</th>\n",
              "      <td>3</td>\n",
              "      <td>2017Q3</td>\n",
              "      <td>ANGELINA</td>\n",
              "      <td>ECHOLS</td>\n",
              "      <td>NaN</td>\n",
              "      <td>Clerk of Circuit Ct.</td>\n",
              "      <td>1335.0</td>\n",
              "      <td>CLERK OF CRCT CRT OFF. OF CLER</td>\n",
              "      <td>907.0</td>\n",
              "      <td>Clerk V</td>\n",
              "      <td>$11,281.45</td>\n",
              "      <td>9515171.0</td>\n",
              "      <td>0719b501-c17f-4da9-aba2-f8e25bf525b9</td>\n",
              "      <td>02/01/1999</td>\n",
              "    </tr>\n",
              "    <tr>\n",
              "      <th>44481</th>\n",
              "      <td>3</td>\n",
              "      <td>2017Q3</td>\n",
              "      <td>HELEN</td>\n",
              "      <td>ECHOLS</td>\n",
              "      <td>NaN</td>\n",
              "      <td>Bureau of Health</td>\n",
              "      <td>4897.0</td>\n",
              "      <td>STROGER HOSPITAL OF COOK CNTY</td>\n",
              "      <td>6824.0</td>\n",
              "      <td>Bldng Srvc Wrkr SEIU 73)</td>\n",
              "      <td>$9,519.60</td>\n",
              "      <td>9521612.0</td>\n",
              "      <td>2bd6e781-1d90-4405-914e-d03a662fdfa4</td>\n",
              "      <td>01/02/2001</td>\n",
              "    </tr>\n",
              "    <tr>\n",
              "      <th>44482</th>\n",
              "      <td>3</td>\n",
              "      <td>2017Q3</td>\n",
              "      <td>ELIZABETH</td>\n",
              "      <td>ECHOLS</td>\n",
              "      <td>T</td>\n",
              "      <td>Bureau of Healt</td>\n",
              "      <td>NaN</td>\n",
              "      <td>NaN</td>\n",
              "      <td>NaN</td>\n",
              "      <td>NaN</td>\n",
              "      <td>NaN</td>\n",
              "      <td>NaN</td>\n",
              "      <td>NaN</td>\n",
              "      <td>NaN</td>\n",
              "    </tr>\n",
              "  </tbody>\n",
              "</table>\n",
              "<p>44483 rows × 14 columns</p>\n",
              "</div>\n",
              "    <div class=\"colab-df-buttons\">\n",
              "\n",
              "  <div class=\"colab-df-container\">\n",
              "    <button class=\"colab-df-convert\" onclick=\"convertToInteractive('df-7ff07fe5-dc58-4c3b-9015-7f13084e6f19')\"\n",
              "            title=\"Convert this dataframe to an interactive table.\"\n",
              "            style=\"display:none;\">\n",
              "\n",
              "  <svg xmlns=\"http://www.w3.org/2000/svg\" height=\"24px\" viewBox=\"0 -960 960 960\">\n",
              "    <path d=\"M120-120v-720h720v720H120Zm60-500h600v-160H180v160Zm220 220h160v-160H400v160Zm0 220h160v-160H400v160ZM180-400h160v-160H180v160Zm440 0h160v-160H620v160ZM180-180h160v-160H180v160Zm440 0h160v-160H620v160Z\"/>\n",
              "  </svg>\n",
              "    </button>\n",
              "\n",
              "  <style>\n",
              "    .colab-df-container {\n",
              "      display:flex;\n",
              "      gap: 12px;\n",
              "    }\n",
              "\n",
              "    .colab-df-convert {\n",
              "      background-color: #E8F0FE;\n",
              "      border: none;\n",
              "      border-radius: 50%;\n",
              "      cursor: pointer;\n",
              "      display: none;\n",
              "      fill: #1967D2;\n",
              "      height: 32px;\n",
              "      padding: 0 0 0 0;\n",
              "      width: 32px;\n",
              "    }\n",
              "\n",
              "    .colab-df-convert:hover {\n",
              "      background-color: #E2EBFA;\n",
              "      box-shadow: 0px 1px 2px rgba(60, 64, 67, 0.3), 0px 1px 3px 1px rgba(60, 64, 67, 0.15);\n",
              "      fill: #174EA6;\n",
              "    }\n",
              "\n",
              "    .colab-df-buttons div {\n",
              "      margin-bottom: 4px;\n",
              "    }\n",
              "\n",
              "    [theme=dark] .colab-df-convert {\n",
              "      background-color: #3B4455;\n",
              "      fill: #D2E3FC;\n",
              "    }\n",
              "\n",
              "    [theme=dark] .colab-df-convert:hover {\n",
              "      background-color: #434B5C;\n",
              "      box-shadow: 0px 1px 3px 1px rgba(0, 0, 0, 0.15);\n",
              "      filter: drop-shadow(0px 1px 2px rgba(0, 0, 0, 0.3));\n",
              "      fill: #FFFFFF;\n",
              "    }\n",
              "  </style>\n",
              "\n",
              "    <script>\n",
              "      const buttonEl =\n",
              "        document.querySelector('#df-7ff07fe5-dc58-4c3b-9015-7f13084e6f19 button.colab-df-convert');\n",
              "      buttonEl.style.display =\n",
              "        google.colab.kernel.accessAllowed ? 'block' : 'none';\n",
              "\n",
              "      async function convertToInteractive(key) {\n",
              "        const element = document.querySelector('#df-7ff07fe5-dc58-4c3b-9015-7f13084e6f19');\n",
              "        const dataTable =\n",
              "          await google.colab.kernel.invokeFunction('convertToInteractive',\n",
              "                                                    [key], {});\n",
              "        if (!dataTable) return;\n",
              "\n",
              "        const docLinkHtml = 'Like what you see? Visit the ' +\n",
              "          '<a target=\"_blank\" href=https://colab.research.google.com/notebooks/data_table.ipynb>data table notebook</a>'\n",
              "          + ' to learn more about interactive tables.';\n",
              "        element.innerHTML = '';\n",
              "        dataTable['output_type'] = 'display_data';\n",
              "        await google.colab.output.renderOutput(dataTable, element);\n",
              "        const docLink = document.createElement('div');\n",
              "        docLink.innerHTML = docLinkHtml;\n",
              "        element.appendChild(docLink);\n",
              "      }\n",
              "    </script>\n",
              "  </div>\n",
              "\n",
              "\n",
              "<div id=\"df-d7ed757b-0546-4e74-af59-5a0f60a058f6\">\n",
              "  <button class=\"colab-df-quickchart\" onclick=\"quickchart('df-d7ed757b-0546-4e74-af59-5a0f60a058f6')\"\n",
              "            title=\"Suggest charts\"\n",
              "            style=\"display:none;\">\n",
              "\n",
              "<svg xmlns=\"http://www.w3.org/2000/svg\" height=\"24px\"viewBox=\"0 0 24 24\"\n",
              "     width=\"24px\">\n",
              "    <g>\n",
              "        <path d=\"M19 3H5c-1.1 0-2 .9-2 2v14c0 1.1.9 2 2 2h14c1.1 0 2-.9 2-2V5c0-1.1-.9-2-2-2zM9 17H7v-7h2v7zm4 0h-2V7h2v10zm4 0h-2v-4h2v4z\"/>\n",
              "    </g>\n",
              "</svg>\n",
              "  </button>\n",
              "\n",
              "<style>\n",
              "  .colab-df-quickchart {\n",
              "      --bg-color: #E8F0FE;\n",
              "      --fill-color: #1967D2;\n",
              "      --hover-bg-color: #E2EBFA;\n",
              "      --hover-fill-color: #174EA6;\n",
              "      --disabled-fill-color: #AAA;\n",
              "      --disabled-bg-color: #DDD;\n",
              "  }\n",
              "\n",
              "  [theme=dark] .colab-df-quickchart {\n",
              "      --bg-color: #3B4455;\n",
              "      --fill-color: #D2E3FC;\n",
              "      --hover-bg-color: #434B5C;\n",
              "      --hover-fill-color: #FFFFFF;\n",
              "      --disabled-bg-color: #3B4455;\n",
              "      --disabled-fill-color: #666;\n",
              "  }\n",
              "\n",
              "  .colab-df-quickchart {\n",
              "    background-color: var(--bg-color);\n",
              "    border: none;\n",
              "    border-radius: 50%;\n",
              "    cursor: pointer;\n",
              "    display: none;\n",
              "    fill: var(--fill-color);\n",
              "    height: 32px;\n",
              "    padding: 0;\n",
              "    width: 32px;\n",
              "  }\n",
              "\n",
              "  .colab-df-quickchart:hover {\n",
              "    background-color: var(--hover-bg-color);\n",
              "    box-shadow: 0 1px 2px rgba(60, 64, 67, 0.3), 0 1px 3px 1px rgba(60, 64, 67, 0.15);\n",
              "    fill: var(--button-hover-fill-color);\n",
              "  }\n",
              "\n",
              "  .colab-df-quickchart-complete:disabled,\n",
              "  .colab-df-quickchart-complete:disabled:hover {\n",
              "    background-color: var(--disabled-bg-color);\n",
              "    fill: var(--disabled-fill-color);\n",
              "    box-shadow: none;\n",
              "  }\n",
              "\n",
              "  .colab-df-spinner {\n",
              "    border: 2px solid var(--fill-color);\n",
              "    border-color: transparent;\n",
              "    border-bottom-color: var(--fill-color);\n",
              "    animation:\n",
              "      spin 1s steps(1) infinite;\n",
              "  }\n",
              "\n",
              "  @keyframes spin {\n",
              "    0% {\n",
              "      border-color: transparent;\n",
              "      border-bottom-color: var(--fill-color);\n",
              "      border-left-color: var(--fill-color);\n",
              "    }\n",
              "    20% {\n",
              "      border-color: transparent;\n",
              "      border-left-color: var(--fill-color);\n",
              "      border-top-color: var(--fill-color);\n",
              "    }\n",
              "    30% {\n",
              "      border-color: transparent;\n",
              "      border-left-color: var(--fill-color);\n",
              "      border-top-color: var(--fill-color);\n",
              "      border-right-color: var(--fill-color);\n",
              "    }\n",
              "    40% {\n",
              "      border-color: transparent;\n",
              "      border-right-color: var(--fill-color);\n",
              "      border-top-color: var(--fill-color);\n",
              "    }\n",
              "    60% {\n",
              "      border-color: transparent;\n",
              "      border-right-color: var(--fill-color);\n",
              "    }\n",
              "    80% {\n",
              "      border-color: transparent;\n",
              "      border-right-color: var(--fill-color);\n",
              "      border-bottom-color: var(--fill-color);\n",
              "    }\n",
              "    90% {\n",
              "      border-color: transparent;\n",
              "      border-bottom-color: var(--fill-color);\n",
              "    }\n",
              "  }\n",
              "</style>\n",
              "\n",
              "  <script>\n",
              "    async function quickchart(key) {\n",
              "      const quickchartButtonEl =\n",
              "        document.querySelector('#' + key + ' button');\n",
              "      quickchartButtonEl.disabled = true;  // To prevent multiple clicks.\n",
              "      quickchartButtonEl.classList.add('colab-df-spinner');\n",
              "      try {\n",
              "        const charts = await google.colab.kernel.invokeFunction(\n",
              "            'suggestCharts', [key], {});\n",
              "      } catch (error) {\n",
              "        console.error('Error during call to suggestCharts:', error);\n",
              "      }\n",
              "      quickchartButtonEl.classList.remove('colab-df-spinner');\n",
              "      quickchartButtonEl.classList.add('colab-df-quickchart-complete');\n",
              "    }\n",
              "    (() => {\n",
              "      let quickchartButtonEl =\n",
              "        document.querySelector('#df-d7ed757b-0546-4e74-af59-5a0f60a058f6 button');\n",
              "      quickchartButtonEl.style.display =\n",
              "        google.colab.kernel.accessAllowed ? 'block' : 'none';\n",
              "    })();\n",
              "  </script>\n",
              "</div>\n",
              "\n",
              "  <div id=\"id_fb120f19-4336-4881-839f-08f5d27978dc\">\n",
              "    <style>\n",
              "      .colab-df-generate {\n",
              "        background-color: #E8F0FE;\n",
              "        border: none;\n",
              "        border-radius: 50%;\n",
              "        cursor: pointer;\n",
              "        display: none;\n",
              "        fill: #1967D2;\n",
              "        height: 32px;\n",
              "        padding: 0 0 0 0;\n",
              "        width: 32px;\n",
              "      }\n",
              "\n",
              "      .colab-df-generate:hover {\n",
              "        background-color: #E2EBFA;\n",
              "        box-shadow: 0px 1px 2px rgba(60, 64, 67, 0.3), 0px 1px 3px 1px rgba(60, 64, 67, 0.15);\n",
              "        fill: #174EA6;\n",
              "      }\n",
              "\n",
              "      [theme=dark] .colab-df-generate {\n",
              "        background-color: #3B4455;\n",
              "        fill: #D2E3FC;\n",
              "      }\n",
              "\n",
              "      [theme=dark] .colab-df-generate:hover {\n",
              "        background-color: #434B5C;\n",
              "        box-shadow: 0px 1px 3px 1px rgba(0, 0, 0, 0.15);\n",
              "        filter: drop-shadow(0px 1px 2px rgba(0, 0, 0, 0.3));\n",
              "        fill: #FFFFFF;\n",
              "      }\n",
              "    </style>\n",
              "    <button class=\"colab-df-generate\" onclick=\"generateWithVariable('df')\"\n",
              "            title=\"Generate code using this dataframe.\"\n",
              "            style=\"display:none;\">\n",
              "\n",
              "  <svg xmlns=\"http://www.w3.org/2000/svg\" height=\"24px\"viewBox=\"0 0 24 24\"\n",
              "       width=\"24px\">\n",
              "    <path d=\"M7,19H8.4L18.45,9,17,7.55,7,17.6ZM5,21V16.75L18.45,3.32a2,2,0,0,1,2.83,0l1.4,1.43a1.91,1.91,0,0,1,.58,1.4,1.91,1.91,0,0,1-.58,1.4L9.25,21ZM18.45,9,17,7.55Zm-12,3A5.31,5.31,0,0,0,4.9,8.1,5.31,5.31,0,0,0,1,6.5,5.31,5.31,0,0,0,4.9,4.9,5.31,5.31,0,0,0,6.5,1,5.31,5.31,0,0,0,8.1,4.9,5.31,5.31,0,0,0,12,6.5,5.46,5.46,0,0,0,6.5,12Z\"/>\n",
              "  </svg>\n",
              "    </button>\n",
              "    <script>\n",
              "      (() => {\n",
              "      const buttonEl =\n",
              "        document.querySelector('#id_fb120f19-4336-4881-839f-08f5d27978dc button.colab-df-generate');\n",
              "      buttonEl.style.display =\n",
              "        google.colab.kernel.accessAllowed ? 'block' : 'none';\n",
              "\n",
              "      buttonEl.onclick = () => {\n",
              "        google.colab.notebook.generateWithVariable('df');\n",
              "      }\n",
              "      })();\n",
              "    </script>\n",
              "  </div>\n",
              "\n",
              "    </div>\n",
              "  </div>\n"
            ],
            "text/plain": [
              "       Fiscal Quarter Fiscal Period First Name Last Name Middle Init  \\\n",
              "0                   1        2016Q1     AMRITH     AAKRE           K   \n",
              "1                   2        2016Q2     AMRITH     AAKRE           K   \n",
              "2                   3        2016Q3     AMRITH     AAKRE           K   \n",
              "3                   4        2016Q4     AMRITH     AAKRE           K   \n",
              "4                   1        2017Q1     AMRITH     AAKRE           K   \n",
              "...               ...           ...        ...       ...         ...   \n",
              "44478               3        2017Q3    VANESSA    ECHOLS           D   \n",
              "44479               3        2017Q3     RHONDA    ECHOLS           E   \n",
              "44480               3        2017Q3   ANGELINA    ECHOLS         NaN   \n",
              "44481               3        2017Q3      HELEN    ECHOLS         NaN   \n",
              "44482               3        2017Q3  ELIZABETH    ECHOLS           T   \n",
              "\n",
              "                     Bureau  Office                     Office Name  Job Code  \\\n",
              "0          State's Attorney  1250.0                 STATES ATTORNEY    1172.0   \n",
              "1          State's Attorney  1250.0                 STATES ATTORNEY    1172.0   \n",
              "2          State's Attorney  1250.0                 STATES ATTORNEY    1172.0   \n",
              "3          State's Attorney  1250.0                 STATES ATTORNEY    1172.0   \n",
              "4          State's Attorney  1250.0                 STATES ATTORNEY    1172.0   \n",
              "...                     ...     ...                             ...       ...   \n",
              "44478           Chief Judge  1280.0           ADULT PROBATION DEPT.     907.0   \n",
              "44479           Chief Judge  1313.0        SOCIAL CASEWORK SERVICES    1531.0   \n",
              "44480  Clerk of Circuit Ct.  1335.0  CLERK OF CRCT CRT OFF. OF CLER     907.0   \n",
              "44481      Bureau of Health  4897.0   STROGER HOSPITAL OF COOK CNTY    6824.0   \n",
              "44482       Bureau of Healt     NaN                             NaN       NaN   \n",
              "\n",
              "                        Job Title    Base Pay  Position ID  \\\n",
              "0      Assistant State's Attorney  $20,088.00    9510200.0   \n",
              "1      Assistant State's Attorney  $23,436.00    9510200.0   \n",
              "2      Assistant State's Attorney  $20,422.82    9510200.0   \n",
              "3      Assistant State's Attorney  $23,904.80    9510200.0   \n",
              "4      Assistant State's Attorney  $20,745.80    9510200.0   \n",
              "...                           ...         ...          ...   \n",
              "44478                     Clerk V  $11,954.80    9512130.0   \n",
              "44479         Social Caseworker I  $12,866.17    9514361.0   \n",
              "44480                     Clerk V  $11,281.45    9515171.0   \n",
              "44481    Bldng Srvc Wrkr SEIU 73)   $9,519.60    9521612.0   \n",
              "44482                         NaN         NaN          NaN   \n",
              "\n",
              "                        Employee Identifier Original Hire Date  \n",
              "0      6ac7ba3e-d286-44f5-87a0-191dc415e23c         05/16/2005  \n",
              "1      6ac7ba3e-d286-44f5-87a0-191dc415e23c         05/16/2005  \n",
              "2      6ac7ba3e-d286-44f5-87a0-191dc415e23c         05/16/2005  \n",
              "3      6ac7ba3e-d286-44f5-87a0-191dc415e23c         05/16/2005  \n",
              "4      6ac7ba3e-d286-44f5-87a0-191dc415e23c         05/16/2005  \n",
              "...                                     ...                ...  \n",
              "44478  c226c292-981b-4134-86ab-2d57d0c93168         07/22/1996  \n",
              "44479  7e5b8a1d-274e-4c3d-8c9c-beee7bff8d6e         01/10/2000  \n",
              "44480  0719b501-c17f-4da9-aba2-f8e25bf525b9         02/01/1999  \n",
              "44481  2bd6e781-1d90-4405-914e-d03a662fdfa4         01/02/2001  \n",
              "44482                                   NaN                NaN  \n",
              "\n",
              "[44483 rows x 14 columns]"
            ]
          },
          "execution_count": 2,
          "metadata": {},
          "output_type": "execute_result"
        }
      ],
      "source": [
        "df=pd.read_csv(\"Employee_Payroll - Employee_Payroll - Employee_Payroll - Employee_Payroll.csv\")\n",
        "df"
      ]
    },
    {
      "cell_type": "markdown",
      "metadata": {
        "id": "bicl9uP1IMeW"
      },
      "source": [
        "1. Remove the **'$'** and **‘,’** signs from the **'Base Pay'** column and change the column's data type to float (Use pandas for this and not excel)"
      ]
    },
    {
      "cell_type": "code",
      "execution_count": 3,
      "metadata": {
        "id": "uURXAa-ZOVKe"
      },
      "outputs": [],
      "source": [
        "df[\"Base Pay\"]=df[\"Base Pay\"].str.replace(\"$\",\"\")\n",
        "df[\"Base Pay\"]=df[\"Base Pay\"].str.replace(\",\",\"\")"
      ]
    },
    {
      "cell_type": "code",
      "execution_count": 4,
      "metadata": {
        "colab": {
          "base_uri": "https://localhost:8080/"
        },
        "id": "A_u_LlrOOq0r",
        "outputId": "41430540-8fb7-481b-f364-8d6eae4ae23a"
      },
      "outputs": [
        {
          "data": {
            "text/plain": [
              "Fiscal Quarter           int64\n",
              "Fiscal Period           object\n",
              "First Name              object\n",
              "Last Name               object\n",
              "Middle Init             object\n",
              "Bureau                  object\n",
              "Office                 float64\n",
              "Office Name             object\n",
              "Job Code               float64\n",
              "Job Title               object\n",
              "Base Pay                object\n",
              "Position ID            float64\n",
              "Employee Identifier     object\n",
              "Original Hire Date      object\n",
              "dtype: object"
            ]
          },
          "execution_count": 4,
          "metadata": {},
          "output_type": "execute_result"
        }
      ],
      "source": [
        "df.dtypes"
      ]
    },
    {
      "cell_type": "code",
      "execution_count": 5,
      "metadata": {
        "colab": {
          "base_uri": "https://localhost:8080/"
        },
        "id": "MQwrIMIUPR4i",
        "outputId": "5d5df484-9890-4608-f2ca-2a8c46c2f718"
      },
      "outputs": [
        {
          "data": {
            "text/plain": [
              "Fiscal Quarter                  int64\n",
              "Fiscal Period                  object\n",
              "First Name                     object\n",
              "Last Name                      object\n",
              "Middle Init                    object\n",
              "Bureau                         object\n",
              "Office                        float64\n",
              "Office Name                    object\n",
              "Job Code                      float64\n",
              "Job Title                      object\n",
              "Base Pay                      float64\n",
              "Position ID                   float64\n",
              "Employee Identifier            object\n",
              "Original Hire Date     datetime64[ns]\n",
              "dtype: object"
            ]
          },
          "execution_count": 5,
          "metadata": {},
          "output_type": "execute_result"
        }
      ],
      "source": [
        "df[\"Base Pay\"]=df[\"Base Pay\"].astype(\"float\")\n",
        "df['Original Hire Date'] = pd.to_datetime(df['Original Hire Date'])\n",
        "df.dtypes"
      ]
    },
    {
      "cell_type": "code",
      "execution_count": 6,
      "metadata": {
        "colab": {
          "base_uri": "https://localhost:8080/"
        },
        "id": "ecRQEfSyPfh6",
        "outputId": "247042ff-1df7-4a76-83fe-bf84ba0527d0"
      },
      "outputs": [
        {
          "data": {
            "text/plain": [
              "Fiscal Quarter             0\n",
              "Fiscal Period              0\n",
              "First Name                 0\n",
              "Last Name                  0\n",
              "Middle Init            17614\n",
              "Bureau                     0\n",
              "Office                   443\n",
              "Office Name              443\n",
              "Job Code                   1\n",
              "Job Title                  1\n",
              "Base Pay                   1\n",
              "Position ID                1\n",
              "Employee Identifier        1\n",
              "Original Hire Date         1\n",
              "dtype: int64"
            ]
          },
          "execution_count": 6,
          "metadata": {},
          "output_type": "execute_result"
        }
      ],
      "source": [
        "df.isnull().sum()"
      ]
    },
    {
      "cell_type": "code",
      "execution_count": 7,
      "metadata": {
        "id": "f1g5rLrXDlPc"
      },
      "outputs": [],
      "source": [
        "df = df.dropna(subset=['Office'])\n",
        "df = df.dropna(subset=['Base Pay'])\n",
        "df = df.dropna(subset=['Position ID'])"
      ]
    },
    {
      "cell_type": "markdown",
      "metadata": {
        "id": "LnTzi2mUIQ5b"
      },
      "source": [
        "2. Create a column 'Fiscal Year' in which you will get the 'Fiscal Year' from the 'Fiscal Period' column."
      ]
    },
    {
      "cell_type": "code",
      "execution_count": 8,
      "metadata": {
        "id": "yE6wZjDIEXzW"
      },
      "outputs": [],
      "source": [
        "df[\"Fiscal Year\"] = df[\"Fiscal Period\"].str[:4]\n",
        "df[\"Fiscal Year\"] = df[\"Fiscal Year\"].astype(\"int\")"
      ]
    },
    {
      "cell_type": "markdown",
      "metadata": {
        "id": "w7oMBaL3E46H"
      },
      "source": [
        "3. Remove the columns ‘Middle Init’, ’Office’, ’Job Code’, and ‘Position ID’ from the DataFrame."
      ]
    },
    {
      "cell_type": "code",
      "execution_count": 9,
      "metadata": {
        "id": "gq41ze79E3jV"
      },
      "outputs": [],
      "source": [
        "df.drop(columns=['Middle Init','Office','Job Code','Position ID'],inplace=True)"
      ]
    },
    {
      "cell_type": "markdown",
      "metadata": {
        "id": "B_PaVvmfFODV"
      },
      "source": [
        "4. Get the count of unique values for the columns 'Fiscal Year', ' Office Name', 'Job Title', and 'Bureau'"
      ]
    },
    {
      "cell_type": "code",
      "execution_count": 21,
      "metadata": {
        "colab": {
          "base_uri": "https://localhost:8080/"
        },
        "id": "oodP1U-cFXNe",
        "outputId": "e338cd5d-3f17-46f7-cb70-b62d90eb767e"
      },
      "outputs": [
        {
          "name": "stdout",
          "output_type": "stream",
          "text": [
            "Unique values Fiscal Year: 2\n",
            "Unique values Office Name: 81\n",
            "Unique values Job Title: 1115\n",
            "Unique values Bureau: 23\n"
          ]
        }
      ],
      "source": [
        "print(\"Unique values Fiscal Year:\", df['Fiscal Year'].nunique())\n",
        "print(\"Unique values Office Name:\", df['Office Name'].nunique())\n",
        "print(\"Unique values Job Title:\", df['Job Title'].nunique())\n",
        "print(\"Unique values Bureau:\", df['Bureau'].nunique())\n"
      ]
    },
    {
      "cell_type": "markdown",
      "metadata": {
        "id": "2wrKacRgFh0F"
      },
      "source": [
        "7. How many Job Titles contain 'Service' in it?"
      ]
    },
    {
      "cell_type": "code",
      "execution_count": 22,
      "metadata": {
        "colab": {
          "base_uri": "https://localhost:8080/"
        },
        "id": "lDYIwekPFlBN",
        "outputId": "86b72e9f-072a-4d12-a09a-4b2e71147a8e"
      },
      "outputs": [
        {
          "name": "stdout",
          "output_type": "stream",
          "text": [
            "num_service_titles 647\n"
          ]
        }
      ],
      "source": [
        "b= df['Job Title'].str.contains('Service')\n",
        "a= b.sum()\n",
        "print(\"num_service_titles\",a)"
      ]
    },
    {
      "cell_type": "markdown",
      "metadata": {
        "id": "XcsUrsDhFuju"
      },
      "source": [
        "8. Print the Highest 'Base Pay' of every 'Office Name'."
      ]
    },
    {
      "cell_type": "code",
      "execution_count": 13,
      "metadata": {
        "colab": {
          "base_uri": "https://localhost:8080/"
        },
        "id": "GomI9lO-Fuan",
        "outputId": "63144d03-3d5f-4127-dba8-4ff37009b704"
      },
      "outputs": [
        {
          "data": {
            "text/plain": [
              "Office Name\n",
              "ADMINISTRATIVE HEARING BOARD      13336.66\n",
              "ADULT PROBATION DEPT.             31928.40\n",
              "AMBULATORY COMMUNITY HLTH NTWK    74039.00\n",
              "BOARD OF REVIEW                   33387.20\n",
              "BOH SERVICES CORE CENTER          65414.75\n",
              "                                    ...   \n",
              "TECHNOLOGY POLICY AND PLANNING    37866.08\n",
              "TENTH DISTRICT                    14807.66\n",
              "THIRD DISTRICT                    28445.41\n",
              "THIRTEENTH DISTRICT               24648.33\n",
              "TWELFTH DISTRICT                  25398.45\n",
              "Name: Base Pay, Length: 81, dtype: float64"
            ]
          },
          "execution_count": 13,
          "metadata": {},
          "output_type": "execute_result"
        }
      ],
      "source": [
        "df.groupby('Office Name')['Base Pay'].max()\n"
      ]
    },
    {
      "cell_type": "markdown",
      "metadata": {
        "id": "ePPuzCmJF1no"
      },
      "source": [
        "9. Create a Dataframe having 'Original Hire Date' as its index and  'Job Title' and 'Base pay' are columns"
      ]
    },
    {
      "cell_type": "code",
      "execution_count": 14,
      "metadata": {
        "colab": {
          "base_uri": "https://localhost:8080/",
          "height": 455
        },
        "id": "KhAJgJz4F5Qo",
        "outputId": "d8b450cb-cd68-4717-a416-aebd99503298"
      },
      "outputs": [
        {
          "data": {
            "application/vnd.google.colaboratory.intrinsic+json": {
              "summary": "{\n  \"name\": \"df2\",\n  \"rows\": 44040,\n  \"fields\": [\n    {\n      \"column\": \"Original Hire Date\",\n      \"properties\": {\n        \"dtype\": \"date\",\n        \"min\": \"1962-09-17 00:00:00\",\n        \"max\": \"2017-11-14 00:00:00\",\n        \"num_unique_values\": 1969,\n        \"samples\": [\n          \"1982-07-01 00:00:00\",\n          \"1985-04-25 00:00:00\",\n          \"1999-03-12 00:00:00\"\n        ],\n        \"semantic_type\": \"\",\n        \"description\": \"\"\n      }\n    },\n    {\n      \"column\": \"Job Title\",\n      \"properties\": {\n        \"dtype\": \"category\",\n        \"num_unique_values\": 1115,\n        \"samples\": [\n          \"Pretrial Officer I- PSB\",\n          \"Security Officer IRecorder\",\n          \"Ch of the Dv of Pr Hl Cr V Pr\"\n        ],\n        \"semantic_type\": \"\",\n        \"description\": \"\"\n      }\n    },\n    {\n      \"column\": \"Base Pay\",\n      \"properties\": {\n        \"dtype\": \"number\",\n        \"std\": 10251.127321518117,\n        \"min\": -19562.15,\n        \"max\": 179589.32,\n        \"num_unique_values\": 27982,\n        \"samples\": [\n          2820.05,\n          9905.13,\n          40470.5\n        ],\n        \"semantic_type\": \"\",\n        \"description\": \"\"\n      }\n    }\n  ]\n}",
              "type": "dataframe",
              "variable_name": "df2"
            },
            "text/html": [
              "\n",
              "  <div id=\"df-0366a6a0-887e-45c6-934b-c981c339ad36\" class=\"colab-df-container\">\n",
              "    <div>\n",
              "<style scoped>\n",
              "    .dataframe tbody tr th:only-of-type {\n",
              "        vertical-align: middle;\n",
              "    }\n",
              "\n",
              "    .dataframe tbody tr th {\n",
              "        vertical-align: top;\n",
              "    }\n",
              "\n",
              "    .dataframe thead th {\n",
              "        text-align: right;\n",
              "    }\n",
              "</style>\n",
              "<table border=\"1\" class=\"dataframe\">\n",
              "  <thead>\n",
              "    <tr style=\"text-align: right;\">\n",
              "      <th></th>\n",
              "      <th>Job Title</th>\n",
              "      <th>Base Pay</th>\n",
              "    </tr>\n",
              "    <tr>\n",
              "      <th>Original Hire Date</th>\n",
              "      <th></th>\n",
              "      <th></th>\n",
              "    </tr>\n",
              "  </thead>\n",
              "  <tbody>\n",
              "    <tr>\n",
              "      <th>2005-05-16</th>\n",
              "      <td>Assistant State's Attorney</td>\n",
              "      <td>20088.00</td>\n",
              "    </tr>\n",
              "    <tr>\n",
              "      <th>2005-05-16</th>\n",
              "      <td>Assistant State's Attorney</td>\n",
              "      <td>23436.00</td>\n",
              "    </tr>\n",
              "    <tr>\n",
              "      <th>2005-05-16</th>\n",
              "      <td>Assistant State's Attorney</td>\n",
              "      <td>20422.82</td>\n",
              "    </tr>\n",
              "    <tr>\n",
              "      <th>2005-05-16</th>\n",
              "      <td>Assistant State's Attorney</td>\n",
              "      <td>23904.80</td>\n",
              "    </tr>\n",
              "    <tr>\n",
              "      <th>2005-05-16</th>\n",
              "      <td>Assistant State's Attorney</td>\n",
              "      <td>20745.80</td>\n",
              "    </tr>\n",
              "    <tr>\n",
              "      <th>...</th>\n",
              "      <td>...</td>\n",
              "      <td>...</td>\n",
              "    </tr>\n",
              "    <tr>\n",
              "      <th>1991-07-29</th>\n",
              "      <td>Licensed Practical Nurse II</td>\n",
              "      <td>15641.50</td>\n",
              "    </tr>\n",
              "    <tr>\n",
              "      <th>1996-07-22</th>\n",
              "      <td>Clerk V</td>\n",
              "      <td>11954.80</td>\n",
              "    </tr>\n",
              "    <tr>\n",
              "      <th>2000-01-10</th>\n",
              "      <td>Social Caseworker I</td>\n",
              "      <td>12866.17</td>\n",
              "    </tr>\n",
              "    <tr>\n",
              "      <th>1999-02-01</th>\n",
              "      <td>Clerk V</td>\n",
              "      <td>11281.45</td>\n",
              "    </tr>\n",
              "    <tr>\n",
              "      <th>2001-01-02</th>\n",
              "      <td>Bldng Srvc Wrkr SEIU 73)</td>\n",
              "      <td>9519.60</td>\n",
              "    </tr>\n",
              "  </tbody>\n",
              "</table>\n",
              "<p>44040 rows × 2 columns</p>\n",
              "</div>\n",
              "    <div class=\"colab-df-buttons\">\n",
              "\n",
              "  <div class=\"colab-df-container\">\n",
              "    <button class=\"colab-df-convert\" onclick=\"convertToInteractive('df-0366a6a0-887e-45c6-934b-c981c339ad36')\"\n",
              "            title=\"Convert this dataframe to an interactive table.\"\n",
              "            style=\"display:none;\">\n",
              "\n",
              "  <svg xmlns=\"http://www.w3.org/2000/svg\" height=\"24px\" viewBox=\"0 -960 960 960\">\n",
              "    <path d=\"M120-120v-720h720v720H120Zm60-500h600v-160H180v160Zm220 220h160v-160H400v160Zm0 220h160v-160H400v160ZM180-400h160v-160H180v160Zm440 0h160v-160H620v160ZM180-180h160v-160H180v160Zm440 0h160v-160H620v160Z\"/>\n",
              "  </svg>\n",
              "    </button>\n",
              "\n",
              "  <style>\n",
              "    .colab-df-container {\n",
              "      display:flex;\n",
              "      gap: 12px;\n",
              "    }\n",
              "\n",
              "    .colab-df-convert {\n",
              "      background-color: #E8F0FE;\n",
              "      border: none;\n",
              "      border-radius: 50%;\n",
              "      cursor: pointer;\n",
              "      display: none;\n",
              "      fill: #1967D2;\n",
              "      height: 32px;\n",
              "      padding: 0 0 0 0;\n",
              "      width: 32px;\n",
              "    }\n",
              "\n",
              "    .colab-df-convert:hover {\n",
              "      background-color: #E2EBFA;\n",
              "      box-shadow: 0px 1px 2px rgba(60, 64, 67, 0.3), 0px 1px 3px 1px rgba(60, 64, 67, 0.15);\n",
              "      fill: #174EA6;\n",
              "    }\n",
              "\n",
              "    .colab-df-buttons div {\n",
              "      margin-bottom: 4px;\n",
              "    }\n",
              "\n",
              "    [theme=dark] .colab-df-convert {\n",
              "      background-color: #3B4455;\n",
              "      fill: #D2E3FC;\n",
              "    }\n",
              "\n",
              "    [theme=dark] .colab-df-convert:hover {\n",
              "      background-color: #434B5C;\n",
              "      box-shadow: 0px 1px 3px 1px rgba(0, 0, 0, 0.15);\n",
              "      filter: drop-shadow(0px 1px 2px rgba(0, 0, 0, 0.3));\n",
              "      fill: #FFFFFF;\n",
              "    }\n",
              "  </style>\n",
              "\n",
              "    <script>\n",
              "      const buttonEl =\n",
              "        document.querySelector('#df-0366a6a0-887e-45c6-934b-c981c339ad36 button.colab-df-convert');\n",
              "      buttonEl.style.display =\n",
              "        google.colab.kernel.accessAllowed ? 'block' : 'none';\n",
              "\n",
              "      async function convertToInteractive(key) {\n",
              "        const element = document.querySelector('#df-0366a6a0-887e-45c6-934b-c981c339ad36');\n",
              "        const dataTable =\n",
              "          await google.colab.kernel.invokeFunction('convertToInteractive',\n",
              "                                                    [key], {});\n",
              "        if (!dataTable) return;\n",
              "\n",
              "        const docLinkHtml = 'Like what you see? Visit the ' +\n",
              "          '<a target=\"_blank\" href=https://colab.research.google.com/notebooks/data_table.ipynb>data table notebook</a>'\n",
              "          + ' to learn more about interactive tables.';\n",
              "        element.innerHTML = '';\n",
              "        dataTable['output_type'] = 'display_data';\n",
              "        await google.colab.output.renderOutput(dataTable, element);\n",
              "        const docLink = document.createElement('div');\n",
              "        docLink.innerHTML = docLinkHtml;\n",
              "        element.appendChild(docLink);\n",
              "      }\n",
              "    </script>\n",
              "  </div>\n",
              "\n",
              "\n",
              "<div id=\"df-70b17721-26a7-4da7-9bca-0f765648b131\">\n",
              "  <button class=\"colab-df-quickchart\" onclick=\"quickchart('df-70b17721-26a7-4da7-9bca-0f765648b131')\"\n",
              "            title=\"Suggest charts\"\n",
              "            style=\"display:none;\">\n",
              "\n",
              "<svg xmlns=\"http://www.w3.org/2000/svg\" height=\"24px\"viewBox=\"0 0 24 24\"\n",
              "     width=\"24px\">\n",
              "    <g>\n",
              "        <path d=\"M19 3H5c-1.1 0-2 .9-2 2v14c0 1.1.9 2 2 2h14c1.1 0 2-.9 2-2V5c0-1.1-.9-2-2-2zM9 17H7v-7h2v7zm4 0h-2V7h2v10zm4 0h-2v-4h2v4z\"/>\n",
              "    </g>\n",
              "</svg>\n",
              "  </button>\n",
              "\n",
              "<style>\n",
              "  .colab-df-quickchart {\n",
              "      --bg-color: #E8F0FE;\n",
              "      --fill-color: #1967D2;\n",
              "      --hover-bg-color: #E2EBFA;\n",
              "      --hover-fill-color: #174EA6;\n",
              "      --disabled-fill-color: #AAA;\n",
              "      --disabled-bg-color: #DDD;\n",
              "  }\n",
              "\n",
              "  [theme=dark] .colab-df-quickchart {\n",
              "      --bg-color: #3B4455;\n",
              "      --fill-color: #D2E3FC;\n",
              "      --hover-bg-color: #434B5C;\n",
              "      --hover-fill-color: #FFFFFF;\n",
              "      --disabled-bg-color: #3B4455;\n",
              "      --disabled-fill-color: #666;\n",
              "  }\n",
              "\n",
              "  .colab-df-quickchart {\n",
              "    background-color: var(--bg-color);\n",
              "    border: none;\n",
              "    border-radius: 50%;\n",
              "    cursor: pointer;\n",
              "    display: none;\n",
              "    fill: var(--fill-color);\n",
              "    height: 32px;\n",
              "    padding: 0;\n",
              "    width: 32px;\n",
              "  }\n",
              "\n",
              "  .colab-df-quickchart:hover {\n",
              "    background-color: var(--hover-bg-color);\n",
              "    box-shadow: 0 1px 2px rgba(60, 64, 67, 0.3), 0 1px 3px 1px rgba(60, 64, 67, 0.15);\n",
              "    fill: var(--button-hover-fill-color);\n",
              "  }\n",
              "\n",
              "  .colab-df-quickchart-complete:disabled,\n",
              "  .colab-df-quickchart-complete:disabled:hover {\n",
              "    background-color: var(--disabled-bg-color);\n",
              "    fill: var(--disabled-fill-color);\n",
              "    box-shadow: none;\n",
              "  }\n",
              "\n",
              "  .colab-df-spinner {\n",
              "    border: 2px solid var(--fill-color);\n",
              "    border-color: transparent;\n",
              "    border-bottom-color: var(--fill-color);\n",
              "    animation:\n",
              "      spin 1s steps(1) infinite;\n",
              "  }\n",
              "\n",
              "  @keyframes spin {\n",
              "    0% {\n",
              "      border-color: transparent;\n",
              "      border-bottom-color: var(--fill-color);\n",
              "      border-left-color: var(--fill-color);\n",
              "    }\n",
              "    20% {\n",
              "      border-color: transparent;\n",
              "      border-left-color: var(--fill-color);\n",
              "      border-top-color: var(--fill-color);\n",
              "    }\n",
              "    30% {\n",
              "      border-color: transparent;\n",
              "      border-left-color: var(--fill-color);\n",
              "      border-top-color: var(--fill-color);\n",
              "      border-right-color: var(--fill-color);\n",
              "    }\n",
              "    40% {\n",
              "      border-color: transparent;\n",
              "      border-right-color: var(--fill-color);\n",
              "      border-top-color: var(--fill-color);\n",
              "    }\n",
              "    60% {\n",
              "      border-color: transparent;\n",
              "      border-right-color: var(--fill-color);\n",
              "    }\n",
              "    80% {\n",
              "      border-color: transparent;\n",
              "      border-right-color: var(--fill-color);\n",
              "      border-bottom-color: var(--fill-color);\n",
              "    }\n",
              "    90% {\n",
              "      border-color: transparent;\n",
              "      border-bottom-color: var(--fill-color);\n",
              "    }\n",
              "  }\n",
              "</style>\n",
              "\n",
              "  <script>\n",
              "    async function quickchart(key) {\n",
              "      const quickchartButtonEl =\n",
              "        document.querySelector('#' + key + ' button');\n",
              "      quickchartButtonEl.disabled = true;  // To prevent multiple clicks.\n",
              "      quickchartButtonEl.classList.add('colab-df-spinner');\n",
              "      try {\n",
              "        const charts = await google.colab.kernel.invokeFunction(\n",
              "            'suggestCharts', [key], {});\n",
              "      } catch (error) {\n",
              "        console.error('Error during call to suggestCharts:', error);\n",
              "      }\n",
              "      quickchartButtonEl.classList.remove('colab-df-spinner');\n",
              "      quickchartButtonEl.classList.add('colab-df-quickchart-complete');\n",
              "    }\n",
              "    (() => {\n",
              "      let quickchartButtonEl =\n",
              "        document.querySelector('#df-70b17721-26a7-4da7-9bca-0f765648b131 button');\n",
              "      quickchartButtonEl.style.display =\n",
              "        google.colab.kernel.accessAllowed ? 'block' : 'none';\n",
              "    })();\n",
              "  </script>\n",
              "</div>\n",
              "\n",
              "  <div id=\"id_bbeaf05a-6a71-466e-8bfc-10fd2ee7178e\">\n",
              "    <style>\n",
              "      .colab-df-generate {\n",
              "        background-color: #E8F0FE;\n",
              "        border: none;\n",
              "        border-radius: 50%;\n",
              "        cursor: pointer;\n",
              "        display: none;\n",
              "        fill: #1967D2;\n",
              "        height: 32px;\n",
              "        padding: 0 0 0 0;\n",
              "        width: 32px;\n",
              "      }\n",
              "\n",
              "      .colab-df-generate:hover {\n",
              "        background-color: #E2EBFA;\n",
              "        box-shadow: 0px 1px 2px rgba(60, 64, 67, 0.3), 0px 1px 3px 1px rgba(60, 64, 67, 0.15);\n",
              "        fill: #174EA6;\n",
              "      }\n",
              "\n",
              "      [theme=dark] .colab-df-generate {\n",
              "        background-color: #3B4455;\n",
              "        fill: #D2E3FC;\n",
              "      }\n",
              "\n",
              "      [theme=dark] .colab-df-generate:hover {\n",
              "        background-color: #434B5C;\n",
              "        box-shadow: 0px 1px 3px 1px rgba(0, 0, 0, 0.15);\n",
              "        filter: drop-shadow(0px 1px 2px rgba(0, 0, 0, 0.3));\n",
              "        fill: #FFFFFF;\n",
              "      }\n",
              "    </style>\n",
              "    <button class=\"colab-df-generate\" onclick=\"generateWithVariable('df2')\"\n",
              "            title=\"Generate code using this dataframe.\"\n",
              "            style=\"display:none;\">\n",
              "\n",
              "  <svg xmlns=\"http://www.w3.org/2000/svg\" height=\"24px\"viewBox=\"0 0 24 24\"\n",
              "       width=\"24px\">\n",
              "    <path d=\"M7,19H8.4L18.45,9,17,7.55,7,17.6ZM5,21V16.75L18.45,3.32a2,2,0,0,1,2.83,0l1.4,1.43a1.91,1.91,0,0,1,.58,1.4,1.91,1.91,0,0,1-.58,1.4L9.25,21ZM18.45,9,17,7.55Zm-12,3A5.31,5.31,0,0,0,4.9,8.1,5.31,5.31,0,0,0,1,6.5,5.31,5.31,0,0,0,4.9,4.9,5.31,5.31,0,0,0,6.5,1,5.31,5.31,0,0,0,8.1,4.9,5.31,5.31,0,0,0,12,6.5,5.46,5.46,0,0,0,6.5,12Z\"/>\n",
              "  </svg>\n",
              "    </button>\n",
              "    <script>\n",
              "      (() => {\n",
              "      const buttonEl =\n",
              "        document.querySelector('#id_bbeaf05a-6a71-466e-8bfc-10fd2ee7178e button.colab-df-generate');\n",
              "      buttonEl.style.display =\n",
              "        google.colab.kernel.accessAllowed ? 'block' : 'none';\n",
              "\n",
              "      buttonEl.onclick = () => {\n",
              "        google.colab.notebook.generateWithVariable('df2');\n",
              "      }\n",
              "      })();\n",
              "    </script>\n",
              "  </div>\n",
              "\n",
              "    </div>\n",
              "  </div>\n"
            ],
            "text/plain": [
              "                                      Job Title  Base Pay\n",
              "Original Hire Date                                       \n",
              "2005-05-16           Assistant State's Attorney  20088.00\n",
              "2005-05-16           Assistant State's Attorney  23436.00\n",
              "2005-05-16           Assistant State's Attorney  20422.82\n",
              "2005-05-16           Assistant State's Attorney  23904.80\n",
              "2005-05-16           Assistant State's Attorney  20745.80\n",
              "...                                         ...       ...\n",
              "1991-07-29          Licensed Practical Nurse II  15641.50\n",
              "1996-07-22                              Clerk V  11954.80\n",
              "2000-01-10                  Social Caseworker I  12866.17\n",
              "1999-02-01                              Clerk V  11281.45\n",
              "2001-01-02             Bldng Srvc Wrkr SEIU 73)   9519.60\n",
              "\n",
              "[44040 rows x 2 columns]"
            ]
          },
          "execution_count": 14,
          "metadata": {},
          "output_type": "execute_result"
        }
      ],
      "source": [
        "df1 = df.set_index('Original Hire Date')[['Job Title','Base Pay']]\n",
        "df1\n"
      ]
    },
    {
      "cell_type": "markdown",
      "metadata": {
        "id": "8NpJSGymGH8A"
      },
      "source": [
        "10. Find the average 'Base pay' of every 'Fiscal Year’."
      ]
    },
    {
      "cell_type": "code",
      "execution_count": 15,
      "metadata": {
        "colab": {
          "base_uri": "https://localhost:8080/"
        },
        "id": "ErcIATiyGDqo",
        "outputId": "c5f19216-51b9-42ca-a70e-6475014a34db"
      },
      "outputs": [
        {
          "data": {
            "text/plain": [
              "Fiscal Year\n",
              "2016    16756.441697\n",
              "2017    17705.397211\n",
              "Name: Base Pay, dtype: float64"
            ]
          },
          "execution_count": 15,
          "metadata": {},
          "output_type": "execute_result"
        }
      ],
      "source": [
        "df.groupby('Fiscal Year')['Base Pay'].mean()"
      ]
    },
    {
      "cell_type": "markdown",
      "metadata": {
        "id": "VKCmL4raGDjG"
      },
      "source": [
        "11 Create 3 DataFrames 'df_2016', 'df_2017', and 'df_2018' where each dataframe will contain data only from those 'Fiscal Year’."
      ]
    },
    {
      "cell_type": "code",
      "execution_count": 16,
      "metadata": {
        "colab": {
          "base_uri": "https://localhost:8080/"
        },
        "id": "8aRBgkrxGNIP",
        "outputId": "9b246ebc-e5ee-4836-8161-13bfab6c7956"
      },
      "outputs": [
        {
          "name": "stdout",
          "output_type": "stream",
          "text": [
            "0        2016\n",
            "1        2016\n",
            "2        2016\n",
            "3        2016\n",
            "7        2016\n",
            "         ... \n",
            "44461    2016\n",
            "44462    2016\n",
            "44463    2016\n",
            "44464    2016\n",
            "44465    2016\n",
            "Name: Fiscal Year, Length: 22520, dtype: int64\n",
            "4        2017\n",
            "5        2017\n",
            "6        2017\n",
            "11       2017\n",
            "12       2017\n",
            "         ... \n",
            "44477    2017\n",
            "44478    2017\n",
            "44479    2017\n",
            "44480    2017\n",
            "44481    2017\n",
            "Name: Fiscal Year, Length: 21520, dtype: int64\n",
            "Series([], Name: Fiscal Year, dtype: int64)\n"
          ]
        }
      ],
      "source": [
        "df_2016 = df[\"Fiscal Year\"][df[\"Fiscal Year\"] == 2016]\n",
        "df_2017 = df[\"Fiscal Year\"][df[\"Fiscal Year\"] == 2017]\n",
        "df_2018 = df[\"Fiscal Year\"][df[\"Fiscal Year\"] == 2018]\n",
        "\n",
        "print(df_2016)\n",
        "print(df_2017)\n",
        "print(df_2018)"
      ]
    },
    {
      "cell_type": "markdown",
      "metadata": {
        "id": "fGDMFSfbHEgi"
      },
      "source": [
        "12. Get all the details where 'Job Title' is 'Operating Engineer II' and the 'Base Pay' is less than 29000 and greater than 25000"
      ]
    },
    {
      "cell_type": "code",
      "execution_count": 17,
      "metadata": {
        "colab": {
          "base_uri": "https://localhost:8080/"
        },
        "id": "98C2QonZHETg",
        "outputId": "2480951f-8143-489b-ee2b-f0ecc8b836cc"
      },
      "outputs": [
        {
          "name": "stdout",
          "output_type": "stream",
          "text": [
            "       Fiscal Quarter Fiscal Period First Name Last Name  \\\n",
            "10398               2        2016Q2      BRIAN    BARRON   \n",
            "10420               4        2016Q4      BRIAN    BARRON   \n",
            "10445               2        2017Q2      BRIAN    BARRON   \n",
            "10466               4        2017Q4      BRIAN    BARRON   \n",
            "31184               2        2016Q2      KEVIN   COLLINS   \n",
            "31276               4        2016Q4      KEVIN   COLLINS   \n",
            "31363               2        2017Q2      KEVIN   COLLINS   \n",
            "31444               4        2017Q4      KEVIN   COLLINS   \n",
            "39381               4        2017Q4    MICHAEL   DENNEHY   \n",
            "44244               2        2016Q2    MATTHEW    EARLEY   \n",
            "44250               4        2016Q4    MATTHEW    EARLEY   \n",
            "44256               2        2017Q2    MATTHEW    EARLEY   \n",
            "44262               4        2017Q4    MATTHEW    EARLEY   \n",
            "\n",
            "                      Bureau                    Office Name  \\\n",
            "10398  Facilities Management       DEPT. OF FACILITIES/MGMT   \n",
            "10420  Facilities Management       DEPT. OF FACILITIES/MGMT   \n",
            "10445  Facilities Management       DEPT. OF FACILITIES/MGMT   \n",
            "10466  Facilities Management       DEPT. OF FACILITIES/MGMT   \n",
            "31184  Facilities Management       DEPT. OF FACILITIES/MGMT   \n",
            "31276  Facilities Management       DEPT. OF FACILITIES/MGMT   \n",
            "31363  Facilities Management       DEPT. OF FACILITIES/MGMT   \n",
            "31444  Facilities Management       DEPT. OF FACILITIES/MGMT   \n",
            "39381  Facilities Management       DEPT. OF FACILITIES/MGMT   \n",
            "44244       Bureau of Health  STROGER HOSPITAL OF COOK CNTY   \n",
            "44250       Bureau of Health  STROGER HOSPITAL OF COOK CNTY   \n",
            "44256       Bureau of Health  STROGER HOSPITAL OF COOK CNTY   \n",
            "44262       Bureau of Health  STROGER HOSPITAL OF COOK CNTY   \n",
            "\n",
            "                   Job Title  Base Pay                   Employee Identifier  \\\n",
            "10398  Operating Engineer II  26566.40  28cf5110-2bb2-470d-abd8-154cca28eead   \n",
            "10420  Operating Engineer II  26566.40  28cf5110-2bb2-470d-abd8-154cca28eead   \n",
            "10445  Operating Engineer II  26566.40  28cf5110-2bb2-470d-abd8-154cca28eead   \n",
            "10466  Operating Engineer II  27098.40  28cf5110-2bb2-470d-abd8-154cca28eead   \n",
            "31184  Operating Engineer II  26566.40  47b0f6e9-4b59-448c-99da-46e1eb2989de   \n",
            "31276  Operating Engineer II  26566.40  47b0f6e9-4b59-448c-99da-46e1eb2989de   \n",
            "31363  Operating Engineer II  26566.40  47b0f6e9-4b59-448c-99da-46e1eb2989de   \n",
            "31444  Operating Engineer II  27098.40  47b0f6e9-4b59-448c-99da-46e1eb2989de   \n",
            "39381  Operating Engineer II  27098.40  49f79a64-5a0e-4032-afff-182c5f442628   \n",
            "44244  Operating Engineer II  25801.66  2778f8b6-43fe-4bd6-b518-494a492c614d   \n",
            "44250  Operating Engineer II  25581.10  2778f8b6-43fe-4bd6-b518-494a492c614d   \n",
            "44256  Operating Engineer II  26140.39  2778f8b6-43fe-4bd6-b518-494a492c614d   \n",
            "44262  Operating Engineer II  27050.02  2778f8b6-43fe-4bd6-b518-494a492c614d   \n",
            "\n",
            "      Original Hire Date  Fiscal Year  \n",
            "10398         1996-07-08         2016  \n",
            "10420         1996-07-08         2016  \n",
            "10445         1996-07-08         2017  \n",
            "10466         1996-07-08         2017  \n",
            "31184         1986-07-14         2016  \n",
            "31276         1986-07-14         2016  \n",
            "31363         1986-07-14         2017  \n",
            "31444         1986-07-14         2017  \n",
            "39381         1993-08-09         2017  \n",
            "44244         2008-08-04         2016  \n",
            "44250         2008-08-04         2016  \n",
            "44256         2008-08-04         2017  \n",
            "44262         2008-08-04         2017  \n"
          ]
        }
      ],
      "source": [
        "df_filtered = df[(df['Job Title'] == 'Operating Engineer II') & (df['Base Pay'] < 29000) & (df['Base Pay'] > 25000)]\n",
        "print(df_filtered)"
      ]
    },
    {
      "cell_type": "markdown",
      "metadata": {
        "id": "u7UqH8stHP-I"
      },
      "source": [
        "13. Concat the above 3 Dataframes created  'df_2016', 'df_2017', and 'df_2018', to create a new DataFrame."
      ]
    },
    {
      "cell_type": "code",
      "execution_count": 18,
      "metadata": {
        "colab": {
          "base_uri": "https://localhost:8080/"
        },
        "id": "KNlYGe7IHPtK",
        "outputId": "cf529eb5-6ad8-490b-9e01-4bf5210aaa2e"
      },
      "outputs": [
        {
          "name": "stdout",
          "output_type": "stream",
          "text": [
            "0        2016\n",
            "1        2016\n",
            "2        2016\n",
            "3        2016\n",
            "7        2016\n",
            "         ... \n",
            "44477    2017\n",
            "44478    2017\n",
            "44479    2017\n",
            "44480    2017\n",
            "44481    2017\n",
            "Name: Fiscal Year, Length: 44040, dtype: int64\n"
          ]
        }
      ],
      "source": [
        "df_combined = pd.concat([df_2016, df_2017, df_2018])\n",
        "print(df_combined)\n"
      ]
    },
    {
      "cell_type": "markdown",
      "metadata": {
        "id": "2mubZRa3Hgzi"
      },
      "source": [
        "14. Get all the details of Employees whose 'Base Pay' is the minimum or 'Base Pay' is the maximum"
      ]
    },
    {
      "cell_type": "code",
      "execution_count": 19,
      "metadata": {
        "colab": {
          "base_uri": "https://localhost:8080/"
        },
        "id": "I1j2uo-XHgSq",
        "outputId": "0210c6bf-38af-4a00-f7d6-33f2b5657961"
      },
      "outputs": [
        {
          "name": "stdout",
          "output_type": "stream",
          "text": [
            "       Fiscal Quarter Fiscal Period First Name Last Name            Bureau  \\\n",
            "1383                4        2016Q4    MUNEEZA      AFIF  Bureau of Health   \n",
            "20287               2        2017Q2       SEAN    BRYANT  Bureau of Health   \n",
            "\n",
            "                          Office Name                  Job Title   Base Pay  \\\n",
            "1383   AMBULATORY COMMUNITY HLTH NTWK     Attending Physician VI  -19562.15   \n",
            "20287   STROGER HOSPITAL OF COOK CNTY  Attending Physician IX-SC  179589.32   \n",
            "\n",
            "                        Employee Identifier Original Hire Date  Fiscal Year  \n",
            "1383   7e5eab7f-a079-4747-9cd6-ecb2b0dd7ebc         2012-07-01         2016  \n",
            "20287  09199b7a-84ba-4d36-bd56-4a6b02df1851         2004-07-12         2017  \n"
          ]
        }
      ],
      "source": [
        "min_pay = df['Base Pay'].min()\n",
        "max_pay = df['Base Pay'].max()\n",
        "\n",
        "df_fil = df[(df['Base Pay'] == min_pay) | (df['Base Pay'] == max_pay)]\n",
        "print(df_fil)\n"
      ]
    },
    {
      "cell_type": "markdown",
      "metadata": {
        "id": "B56oj3ALHzVq"
      },
      "source": [
        "15. For each ‘Office Name’ and ‘Job Title’  find the first and second highest  'Base Pay'  salary."
      ]
    },
    {
      "cell_type": "code",
      "execution_count": 20,
      "metadata": {
        "colab": {
          "base_uri": "https://localhost:8080/"
        },
        "id": "v3wxHSqEH7zZ",
        "outputId": "deb43435-53fb-4d4b-a555-3b5d794f329d"
      },
      "outputs": [
        {
          "data": {
            "text/plain": [
              "Office Name                   Job Title                           \n",
              "ADMINISTRATIVE HEARING BOARD  Administrative Assistant III   10095    13336.66\n",
              "                                                             10046    13336.64\n",
              "                              Administrative Hearings Clerk  19656     8859.89\n",
              "                                                             19520     7594.20\n",
              "ADULT PROBATION DEPT.         Admin Assistant I              10969    14987.03\n",
              "                                                                        ...   \n",
              "THIRTEENTH DISTRICT           Commissioners Staff            27756    22507.66\n",
              "TWELFTH DISTRICT              Aide to the Commissioner II    26707    25398.45\n",
              "                                                             26710    25398.45\n",
              "                              Commissioners Staff            26705    24593.73\n",
              "                                                             26703    24111.50\n",
              "Name: Base Pay, Length: 3274, dtype: float64"
            ]
          },
          "execution_count": 20,
          "metadata": {},
          "output_type": "execute_result"
        }
      ],
      "source": [
        "df.groupby(['Office Name', 'Job Title'])['Base Pay'].nlargest(2)"
      ]
    }
  ],
  "metadata": {
    "colab": {
      "provenance": []
    },
    "kernelspec": {
      "display_name": "Python 3",
      "name": "python3"
    },
    "language_info": {
      "name": "python"
    }
  },
  "nbformat": 4,
  "nbformat_minor": 0
}
